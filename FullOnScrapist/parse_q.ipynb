{
 "cells": [
  {
   "cell_type": "markdown",
   "metadata": {},
   "source": [
    "# Parse Q Data\n",
    "Start by importing some utilities and the raw data:"
   ]
  },
  {
   "cell_type": "code",
   "execution_count": 13,
   "metadata": {
    "collapsed": false
   },
   "outputs": [],
   "source": [
    "import rawData, json, jupyterImport\n",
    "jupyterImport.enableJupyterImports()\n",
    "from Utilities import find, genSamples, genSample, pluck, copyKeys, combineDicts"
   ]
  },
  {
   "cell_type": "code",
   "execution_count": 14,
   "metadata": {
    "collapsed": false
   },
   "outputs": [],
   "source": [
    "def extractRawReports(data=rawData.q()):\n",
    "  rawReportsDict = combineDicts(map(lambda s: s['reports'], data))\n",
    "  for reportId, rawReport in rawReportsDict.iteritems():\n",
    "    rawReport['reportId'] = reportId\n",
    "  return rawReportsDict.values()"
   ]
  },
  {
   "cell_type": "markdown",
   "metadata": {},
   "source": [
    "For some reason, Q reports don't include term / year anywhere on the pages. We have to scrape this data separately and then merge it with the reports:"
   ]
  },
  {
   "cell_type": "code",
   "execution_count": 15,
   "metadata": {
    "collapsed": true
   },
   "outputs": [],
   "source": [
    "def addTermYears(reports):\n",
    "  origins = {}\n",
    "  for key, termDict in rawData.qCourseIds().iteritems():\n",
    "    for deptList in termDict.values():\n",
    "      for courseId in deptList:\n",
    "        term = key.split('_')[1]\n",
    "        year = key.split('_')[0]\n",
    "        term = 'Fall' if term == '1' else 'Spring'\n",
    "        year = year if term == 'Fall' else str(int(year) + 1)\n",
    "        origins[courseId] = {'term': term, 'year': year}\n",
    "  for report in reports:\n",
    "    if report['reportId'] in origins:\n",
    "      report.update(origins[report['reportId']])"
   ]
  },
  {
   "cell_type": "code",
   "execution_count": 16,
   "metadata": {
    "collapsed": false
   },
   "outputs": [],
   "source": [
    "import q_map\n",
    "def parseReportsAndComments(rawReports):\n",
    "  comments = {}\n",
    "  reports = []\n",
    "  for rawReport in rawReports:\n",
    "    report = {}\n",
    "    for mapper in q_map.mappers:\n",
    "      mapper.map(rawReport, to=report)\n",
    "    reports.append(report)\n",
    "    q_map.comments.map(rawReport, to=comments)\n",
    "  addTermYears(reports)\n",
    "  return (reports, comments)"
   ]
  },
  {
   "cell_type": "code",
   "execution_count": 17,
   "metadata": {
    "collapsed": false
   },
   "outputs": [],
   "source": [
    "reports, comments = parseReportsAndComments(extractRawReports())"
   ]
  },
  {
   "cell_type": "code",
   "execution_count": null,
   "metadata": {
    "collapsed": false
   },
   "outputs": [],
   "source": [
    "### Run to inspect\n",
    "genSample(reports)"
   ]
  }
 ],
 "metadata": {
  "kernelspec": {
   "display_name": "Python 2",
   "language": "python",
   "name": "python2"
  },
  "language_info": {
   "codemirror_mode": {
    "name": "ipython",
    "version": 2
   },
   "file_extension": ".py",
   "mimetype": "text/x-python",
   "name": "python",
   "nbconvert_exporter": "python",
   "pygments_lexer": "ipython2",
   "version": "2.7.13"
  }
 },
 "nbformat": 4,
 "nbformat_minor": 2
}
