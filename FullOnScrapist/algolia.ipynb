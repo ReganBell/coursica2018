{
 "cells": [
  {
   "cell_type": "code",
   "execution_count": null,
   "metadata": {
    "collapsed": true
   },
   "outputs": [],
   "source": [
    "from copy import deepcopy\n",
    "limit = 10*1024\n",
    "overLimit = lambda off: calcSize(off) > limit\n",
    "calcSize = lambda dct: len(json.dumps(dct))\n",
    "\n",
    "def strippedResponse(response):\n",
    "  stripped = {'score': response['score']}\n",
    "  if 'percentiles' in response and 'similar' in response['percentiles']:\n",
    "    stripped['percentiles'] = {'similar': response['percentiles']['similar']}\n",
    "  return stripped\n",
    "\n",
    "def stripReport(reportOrProf):\n",
    "  if 'responses' in reportOrProf:\n",
    "    for attribute, response in reportOrProf['responses'].iteritems():\n",
    "      reportOrProf['responses'][attribute] = strippedResponse(response)\n",
    "  return reportOrProf\n",
    "\n",
    "def trimmedReports(reports, targetSize):\n",
    "  trimmed = deepcopy(reports)\n",
    "  for i, report in enumerate(reversed(trimmed)):\n",
    "    stripReport(report)\n",
    "    if 'profs' in report:\n",
    "      report['profs'] = [stripReport(p) for p in report['profs']]        \n",
    "    if calcSize(trimmed) < targetSize:\n",
    "#       print '  Got under size limit by stripping', i + 1, 'of', len(reports)\n",
    "      return trimmed \n",
    "  while calcSize(trimmed) > targetSize:\n",
    "#     print '  Still too big', calcSize(trimmed)\n",
    "    if len(trimmed) > 1:\n",
    "      trimmed = trimmed[:-1]\n",
    "    else:\n",
    "#       print '  Removed all', len(reports), 'to get under size limit.'\n",
    "      return []\n",
    "#   print '  Removed', len(reports), '->', len(trimmed), 'to get under size limit.',\n",
    "#   print '  Last:', reports[-1]['term'], reports[-1]['year'], '->', trimmed[-1]['term'], trimmed[-1]['year']\n",
    "  return trimmed\n",
    "\n",
    "def trimProfs(newOffering):\n",
    "  for prof in newOffering['profs']:\n",
    "    if 'matched' in prof:\n",
    "      del prof['matched']\n",
    "\n",
    "def trimTopReport(newOffering):\n",
    "  if 'topReport' in newOffering:\n",
    "    top = newOffering['topReport']\n",
    "    del newOffering['topReport']\n",
    "    trimmedTop = trimmedReports([top], 10*1024 - calcSize(newOffering))\n",
    "    if len(trimmedTop) > 0:\n",
    "      newOffering['topReport'] = trimmedTop[0]\n",
    "      \n",
    "def trimReports(newOffering):\n",
    "  oldReports = [r for r in newOffering['reports'] if r['year'] < '2014']\n",
    "  newReports = [r for r in newOffering['reports'] if r['year'] >= '2014']\n",
    "  del newOffering['reports']\n",
    "  if overLimit(newOffering):\n",
    "    trimTopReport(newOffering)\n",
    "  if (calcSize(newOffering) + calcSize(newReports)) < limit:\n",
    "    newOffering['reports'] = newReports + trimmedReports(oldReports, limit - (calcSize(newOffering) + calcSize(newReports))) \n",
    "  elif calcSize(newOffering) < limit:\n",
    "    trimmedNew = trimmedReports(newReports, limit - calcSize(newOffering))\n",
    "    if len(trimmedNew) > 0:\n",
    "      newOffering['reports'] = trimmedNew\n",
    "\n",
    "from collections import Counter\n",
    "def algoliaCompress(offerings):\n",
    "  algoliaOfferings = []\n",
    "  for offering in offerings:\n",
    "    if overLimit(offering):\n",
    "      newOffering = deepcopy(offering)\n",
    "      if 'reports' in newOffering:\n",
    "        trimReports(newOffering)\n",
    "      if overLimit(newOffering):\n",
    "        trimTopReport(newOffering)\n",
    "      if overLimit(newOffering):\n",
    "        trimProfs(newOffering)\n",
    "      if overLimit(newOffering):\n",
    "        raise\n",
    "      else:\n",
    "        print offering['group'], offering['number']\n",
    "        print '  from', calcSize(offering), '->', calcSize(newOffering)\n",
    "        algoliaOfferings.append(newOffering)\n",
    "    else:\n",
    "      algoliaOfferings.append(offering)\n",
    "  return algoliaOfferings\n"
   ]
  },
  {
   "cell_type": "code",
   "execution_count": null,
   "metadata": {
    "collapsed": true
   },
   "outputs": [],
   "source": [
    "algoliaOfferings = algoliaCompress(offerings)"
   ]
  },
  {
   "cell_type": "code",
   "execution_count": null,
   "metadata": {
    "collapsed": true
   },
   "outputs": [],
   "source": [
    "from algoliasearch import algoliasearch\n",
    "client = algoliasearch.Client(\"D86FK05FUD\", '0cebfab0abe857cd36dd70e37f043a64')\n",
    "index = client.init_index(\"offerings\")\n",
    "index.save_objects(algoliaOfferings)"
   ]
  }
 ],
 "metadata": {
  "kernelspec": {
   "display_name": "Python 2",
   "language": "python",
   "name": "python2"
  },
  "language_info": {
   "codemirror_mode": {
    "name": "ipython",
    "version": 2
   },
   "file_extension": ".py",
   "mimetype": "text/x-python",
   "name": "python",
   "nbconvert_exporter": "python",
   "pygments_lexer": "ipython2",
   "version": "2.7.13"
  }
 },
 "nbformat": 4,
 "nbformat_minor": 2
}
