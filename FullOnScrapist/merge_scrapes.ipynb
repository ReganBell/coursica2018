{
 "cells": [
  {
   "cell_type": "markdown",
   "metadata": {},
   "source": [
    "# Merge Scrapes\n",
    "Start by importing some utilities and the raw data:"
   ]
  },
  {
   "cell_type": "code",
   "execution_count": 5,
   "metadata": {
    "collapsed": false
   },
   "outputs": [],
   "source": [
    "import jupyterImport\n",
    "jupyterImport.enableJupyterImports()\n",
    "from Utilities import find, genSamples, genSample, pluck, copyKeys, MultiReplace, allWith\n",
    "from parse_q import reports, comments\n",
    "from my_harvard_map import offerings\n",
    "from copy import deepcopy"
   ]
  },
  {
   "cell_type": "markdown",
   "metadata": {
    "collapsed": true
   },
   "source": [
    "First, we need to link `offerings` and `reports` together. All we can really do is match `group + number` combinations. We'll need to manually account for group / department names that have changed over time. We should have those on this list:"
   ]
  },
  {
   "cell_type": "code",
   "execution_count": 6,
   "metadata": {
    "collapsed": true
   },
   "outputs": [],
   "source": [
    "groupReplace = MultiReplace({\n",
    "  'AM-CIV': 'AMSTDIES',\n",
    "  'CL': 'COMPLIT',\n",
    "  'DRAMA': 'TDM',\n",
    "  'HINDI': 'HIND-URD',\n",
    "  'HUMFRAME': 'HUMAN',\n",
    "  'HUMQSTNS': 'HUMAN',\n",
    "  'IMUIL': 'IMMUN',\n",
    "  'IRANCIV': 'IRANIAN',\n",
    "  'LIT': 'COMPLIT,ENGLISH',\n",
    "  'LITER': 'COMPLIT,ENGLISH',\n",
    "  'LITERTRE': 'COMPLIT,ENGLISH',\n",
    "  'MOR-REAS': 'ETHRSON',\n",
    "  'PAL': 'PALI',\n",
    "  'QNT-REAS': 'EMREAS',\n",
    "  'SANSKRT': 'SANSKRIT',\n",
    "  'SCIENCE': 'SCIPHUNV,SCILIVSY',\n",
    "  'SOC-ANAL': 'SOCWORLD',\n",
    "  'TAMIL': 'TAM',\n",
    "  'TIBETAN': 'TIBET',\n",
    "  'TIBHIST': 'TIBET',\n",
    "  'URD': 'HIND-URD',\n",
    "  'URDU': 'HIND-URD'\n",
    "})"
   ]
  },
  {
   "cell_type": "markdown",
   "metadata": {},
   "source": [
    "Which was figured out with the following:"
   ]
  },
  {
   "cell_type": "code",
   "execution_count": null,
   "metadata": {
    "collapsed": false
   },
   "outputs": [],
   "source": [
    "### Run to inspect\n",
    "qRepsByGroup = []\n",
    "from collections import defaultdict\n",
    "reportsByGroup = defaultdict(list)\n",
    "for report, group in allWith('group', reports):\n",
    "  reportsByGroup[group].append(report)\n",
    "for key, reps in sorted(reportsByGroup.items()):\n",
    "  srted = sorted([year for _, year in allWith('year', reps)], reverse=True)\n",
    "  qRepsByGroup.append(' '.join([key, srted[0], str(len(reps)), reps[0]['title']]))\n",
    "qRepsByGroup"
   ]
  },
  {
   "cell_type": "markdown",
   "metadata": {},
   "source": [
    "Now we can match and assign `reports` to each `offering` that has them."
   ]
  },
  {
   "cell_type": "code",
   "execution_count": 7,
   "metadata": {
    "collapsed": false
   },
   "outputs": [],
   "source": [
    "from collections import defaultdict\n",
    "from operator import itemgetter\n",
    "\n",
    "def buildQMatchTable(reports):\n",
    "  qLookup = defaultdict(list)\n",
    "  for report in reports:\n",
    "    report['number'] = report['number'].split('.')[0] if report['group'] == 'EXPOS' else report['number']\n",
    "    groups = groupReplace.sub(report['group']).split(',')\n",
    "    for group in groups:\n",
    "      qLookup[group + report['number']].append(report)\n",
    "  return qLookup\n",
    "    \n",
    "def topReport(offering, reports):\n",
    "  if 'profs' not in offering:\n",
    "    reports[0]['relevantBecause'] = 'mostRecent'\n",
    "    return reports[0], reports[1:]\n",
    "  for profIndex, matchName in enumerate([prof['matchName'] for prof in offering['profs']]):\n",
    "    for repI, report in enumerate(reports):\n",
    "      if 'profs' not in report:\n",
    "        continue\n",
    "      for _ in [qProf for qProf in report['profs'] if qProf['matchName'] == matchName]:\n",
    "        top = report\n",
    "        top.update({'relevantBecause': 'profMatch_index=' + str(profIndex), 'matched': matchName})\n",
    "        return top, reports[0:repI] + reports[repI+1:len(reports)]\n",
    "  reports[0]['relevantBecause'] = 'mostRecent'\n",
    "  return reports[0], reports[1:]\n",
    "\n",
    "def linkReportsToOfferings(reports, offerings):\n",
    "  qLookup = buildQMatchTable(reports)\n",
    "  for offering in offerings:\n",
    "    reports = qLookup[offering['group'] + offering['number']]\n",
    "    if not reports:\n",
    "      continue\n",
    "    if offering['group'] == 'EXPOS':\n",
    "      names = set([p['matchName'] for p in offering['profs']] if 'profs' in offering else [])\n",
    "      newReports = []\n",
    "      for report, profs in allWith('profs', reports):\n",
    "        profs = [p for p in profs if p['matchName'] in names]\n",
    "        if len(profs) > 0:\n",
    "          newReport = deepcopy(report)\n",
    "          newReport['profs'] = profs\n",
    "          newReports.append(newReport)\n",
    "      reports = newReports\n",
    "      if len(reports) == 0:\n",
    "        continue\n",
    "    for report in reports:\n",
    "      report['group'] = offering['group']\n",
    "    reports.sort(key=itemgetter('term'))\n",
    "    reports.sort(key=itemgetter('year'), reverse=True)\n",
    "    top, rest = topReport(offering, reports)\n",
    "    offering['topReport'] = top\n",
    "    if len(rest) > 0:\n",
    "      offering['reports'] = rest"
   ]
  },
  {
   "cell_type": "code",
   "execution_count": 10,
   "metadata": {
    "collapsed": false
   },
   "outputs": [],
   "source": [
    "linkReportsToOfferings(reports, offerings)"
   ]
  },
  {
   "cell_type": "code",
   "execution_count": 18,
   "metadata": {
    "collapsed": false
   },
   "outputs": [
    {
     "data": {
      "text/plain": [
       "{'classNumber': u'18007',\n",
       " 'consentRequired': u'No Consent',\n",
       " 'courseId': u'128024',\n",
       " 'courseSite': u'https://locator.tlt.harvard.edu/course/colgsas-128024/2017/fall/18007',\n",
       " 'crossReg': [u'Available for Harvard Cross Registration'],\n",
       " 'departments': [u'General Education'],\n",
       " 'description': u'Provides an introduction to contemporary American constitutional law, with a principal focus on decisions by the Supreme Court of the US. Topics to be studied include freedom of speech and religion, guarantees of due process and equal protection, and the powers of Congress and the courts.',\n",
       " 'enrollmentCap': u'999',\n",
       " 'examDateTime': u'12/11/2017 2:00 PM',\n",
       " 'format': u'Lecture',\n",
       " 'genEds': [u'Ethical Reasoning'],\n",
       " 'gradingBasis': u'FAS Letter Graded',\n",
       " 'group': u'GOV',\n",
       " 'level': u'For Undergraduate and Graduate Students',\n",
       " 'notes': u'This course, when taken for a letter grade, meets the General Education requirement for Ethical Reasoning.',\n",
       " 'number': u'1510',\n",
       " 'numberAlt': u'GOV1510',\n",
       " 'numberInt': 1510,\n",
       " 'objectID': u'128024_18007',\n",
       " 'primaryDepartment': u'Government',\n",
       " 'profs': [{'displayName': u'Richard Fallon', 'matchName': u'richard fallon'}],\n",
       " 'reports': [{'evals': 218,\n",
       "   'group': u'GOV',\n",
       "   'number': u'1510',\n",
       "   'profs': [{'displayName': u'Richard Fallon',\n",
       "     'matchName': u'richard fallon',\n",
       "     'responses': {'accessible': {'score': '4.06'},\n",
       "      'discussion': {'score': '4.31'},\n",
       "      'enthusiasm': {'score': '4.55'},\n",
       "      'feedback': {'score': '4.51'},\n",
       "      'instructor': {'score': '4.49'},\n",
       "      'lectures': {'score': '4.50'},\n",
       "      'turnaround': {'score': '4.50'}}}],\n",
       "   'reasons': {'concentration': u'36%',\n",
       "    'elective': u'36%',\n",
       "    'genEd': u'50%',\n",
       "    'secondary': u'14%'},\n",
       "   'reportId': u'35470',\n",
       "   'responses': {'assignments': {'score': '4.22'},\n",
       "    'feedback': {'score': '4.21'},\n",
       "    'materials': {'score': '4.44'},\n",
       "    'overall': {'score': '4.38'},\n",
       "    'recommend': {'score': '4.47'},\n",
       "    'section': {'score': '4.37'},\n",
       "    'workload': {'score': '5.71'}},\n",
       "   'size': 234,\n",
       "   'term': 'Fall',\n",
       "   'title': u'American Constitutional Law',\n",
       "   'year': u'2013'},\n",
       "  {'evals': 175,\n",
       "   'group': u'GOV',\n",
       "   'number': u'1510',\n",
       "   'profs': [{'displayName': u'Richard Fallon',\n",
       "     'matchName': u'richard fallon',\n",
       "     'responses': {'accessible': {'score': '4.13'},\n",
       "      'discussion': {'score': '3.76'},\n",
       "      'enthusiasm': {'score': '4.69'},\n",
       "      'feedback': {'score': '4.87'},\n",
       "      'instructor': {'score': '4.61'},\n",
       "      'lectures': {'score': '4.60'},\n",
       "      'turnaround': {'score': '4.88'}}}],\n",
       "   'reasons': {'concentration': u'41%',\n",
       "    'elective': u'57%',\n",
       "    'genEd': u'8%',\n",
       "    'secondary': u'10%'},\n",
       "   'reportId': u'28511',\n",
       "   'responses': {'assignments': {'score': '4.18'},\n",
       "    'feedback': {'score': '4.09'},\n",
       "    'materials': {'score': '4.44'},\n",
       "    'overall': {'score': '4.41'},\n",
       "    'recommend': {'score': '4.45'},\n",
       "    'section': {'score': '4.11'},\n",
       "    'workload': {'score': '5.99'}},\n",
       "   'size': 189,\n",
       "   'term': 'Fall',\n",
       "   'title': u'American Constitutional Law',\n",
       "   'year': u'2011'},\n",
       "  {'evals': 164,\n",
       "   'group': u'GOV',\n",
       "   'number': u'1510',\n",
       "   'profs': [{'displayName': u'Richard Fallon',\n",
       "     'matchName': u'richard fallon',\n",
       "     'responses': {'accessible': {'score': '4.34'},\n",
       "      'discussion': {'score': '4.28'},\n",
       "      'enthusiasm': {'score': '4.86'},\n",
       "      'feedback': {'score': '4.11'},\n",
       "      'instructor': {'score': '4.81'},\n",
       "      'lectures': {'score': '4.81'},\n",
       "      'turnaround': {'score': '4.40'}}}],\n",
       "   'reasons': {'concentration': u'46%',\n",
       "    'elective': u'45%',\n",
       "    'genEd': u'4%',\n",
       "    'secondary': u'18%'},\n",
       "   'reportId': u'17623',\n",
       "   'responses': {'assignments': {'score': '4.40'},\n",
       "    'feedback': {'score': '4.42'},\n",
       "    'materials': {'score': '4.55'},\n",
       "    'overall': {'score': '4.66'},\n",
       "    'recommend': {'score': '4.72'},\n",
       "    'section': {'score': '4.38'},\n",
       "    'workload': {'score': '5.54'}},\n",
       "   'size': 234,\n",
       "   'term': 'Fall',\n",
       "   'title': u'American Constitutional Law',\n",
       "   'year': u'2008'}],\n",
       " 'sessions': [{'days': [u'M', u'W'], 'end': u'2:30', 'start': u'1'}],\n",
       " 'term': u'Fall',\n",
       " 'title': u'American Constitutional Law',\n",
       " 'topReport': {'evals': 234,\n",
       "  'group': u'GOV',\n",
       "  'matched': u'richard fallon',\n",
       "  'number': u'1510',\n",
       "  'profs': [{'displayName': u'Richard Fallon',\n",
       "    'matchName': u'richard fallon',\n",
       "    'responses': {'accessible': {'score': '4.35'},\n",
       "     'discussion': {'score': '4.47'},\n",
       "     'enthusiasm': {'score': '4.57'},\n",
       "     'feedback': {'score': '4.37'},\n",
       "     'instructor': {'score': '4.51'},\n",
       "     'lectures': {'score': '4.51'},\n",
       "     'turnaround': {'score': '4.24'}}}],\n",
       "  'reasons': {'concentration': u'36%',\n",
       "   'elective': u'42%',\n",
       "   'genEd': u'56%',\n",
       "   'secondary': u'16%'},\n",
       "  'relevantBecause': 'profMatch_index=0',\n",
       "  'reportId': u'43777',\n",
       "  'responses': {'assignments': {'score': '4.23'},\n",
       "   'feedback': {'score': '4.14'},\n",
       "   'materials': {'score': '4.38'},\n",
       "   'overall': {'score': '4.36'},\n",
       "   'recommend': {'score': '4.34'},\n",
       "   'section': {'score': '4.24'},\n",
       "   'workload': {'score': '5.05'}},\n",
       "  'size': 267,\n",
       "  'term': 'Fall',\n",
       "  'title': u'American Constitutional Law',\n",
       "  'year': u'2015'},\n",
       " 'units': u'4',\n",
       " 'year': u'2017'}"
      ]
     },
     "execution_count": 18,
     "metadata": {},
     "output_type": "execute_result"
    }
   ],
   "source": [
    "offerings[181]"
   ]
  },
  {
   "cell_type": "code",
   "execution_count": null,
   "metadata": {
    "collapsed": true
   },
   "outputs": [],
   "source": []
  }
 ],
 "metadata": {
  "kernelspec": {
   "display_name": "Python 2",
   "language": "python",
   "name": "python2"
  },
  "language_info": {
   "codemirror_mode": {
    "name": "ipython",
    "version": 2
   },
   "file_extension": ".py",
   "mimetype": "text/x-python",
   "name": "python",
   "nbconvert_exporter": "python",
   "pygments_lexer": "ipython2",
   "version": "2.7.13"
  }
 },
 "nbformat": 4,
 "nbformat_minor": 2
}
