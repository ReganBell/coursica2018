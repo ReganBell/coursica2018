{
 "cells": [
  {
   "cell_type": "code",
   "execution_count": null,
   "metadata": {
    "collapsed": true
   },
   "outputs": [],
   "source": [
    "def siblingSummary(offering):\n",
    "  summary = copyKeys(offering, ['term', 'year', 'likelyTerm', 'likelyYear', 'profs', 'sessions', 'objectID'])\n",
    "  if 'profs' in summary:\n",
    "    summary['profs'] = [copyKeys(p, ['score', 'percentile', 'matchName', 'displayName']) for p in summary['profs'][0:3]]\n",
    "  return summary\n",
    "\n",
    "def linkSiblings(offerings):\n",
    "  siblings = defaultdict(list)\n",
    "  for offering in offerings:\n",
    "    try:\n",
    "      if offering['group'] == 'EXPOS':\n",
    "        key = offering['group'] + offering['number'] + offering['profs'][0]['matchName']\n",
    "      else:\n",
    "        key = offering['group'] + offering['number']\n",
    "    except:\n",
    "      offering['otherOfferings'] = []\n",
    "    siblings[key].append(offering)\n",
    "  for name, courseOfferings in siblings.iteritems():\n",
    "    if len(courseOfferings) == 1:\n",
    "      continue\n",
    "    _range = range(0, len(courseOfferings))\n",
    "    summaries = map(siblingSummary, courseOfferings)\n",
    "    for i in _range:\n",
    "      courseOfferings[i]['otherOfferings'] = []\n",
    "      for other_k in (_range[:i] + _range[(i + 1):])[0:10]:\n",
    "        courseOfferings[i]['otherOfferings'].append(summaries[other_k])"
   ]
  },
  {
   "cell_type": "code",
   "execution_count": null,
   "metadata": {
    "collapsed": true
   },
   "outputs": [],
   "source": [
    "linkSiblings(offerings)"
   ]
  }
 ],
 "metadata": {
  "kernelspec": {
   "display_name": "Python 2",
   "language": "python",
   "name": "python2"
  },
  "language_info": {
   "codemirror_mode": {
    "name": "ipython",
    "version": 2
   },
   "file_extension": ".py",
   "mimetype": "text/x-python",
   "name": "python",
   "nbconvert_exporter": "python",
   "pygments_lexer": "ipython2",
   "version": "2.7.13"
  }
 },
 "nbformat": 4,
 "nbformat_minor": 2
}
