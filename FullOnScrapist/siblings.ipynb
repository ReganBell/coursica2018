{
 "cells": [
  {
   "cell_type": "code",
   "execution_count": 4,
   "metadata": {
    "collapsed": true
   },
   "outputs": [],
   "source": [
    "from jupyterImport import enableJupyterImports\n",
    "enableJupyterImports()\n",
    "from professors import offeringsWithProfessors\n",
    "from collections import defaultdict"
   ]
  },
  {
   "cell_type": "code",
   "execution_count": 7,
   "metadata": {
    "collapsed": true
   },
   "outputs": [],
   "source": [
    "from Utilities import copyKeys"
   ]
  },
  {
   "cell_type": "code",
   "execution_count": 8,
   "metadata": {
    "collapsed": true
   },
   "outputs": [],
   "source": [
    "def siblingSummary(offering):\n",
    "  summary = copyKeys(offering, ['term', 'year', 'likelyTerm', 'likelyYear', 'profs', 'sessions', 'objectID'])\n",
    "  if 'profs' in summary:\n",
    "    summary['profs'] = [copyKeys(p, ['score', 'percentile', 'matchName', 'displayName']) for p in summary['profs'][0:3]]\n",
    "  return summary\n",
    "\n",
    "def linkSiblings(offerings):\n",
    "  siblings = defaultdict(list)\n",
    "  for offering in offerings:\n",
    "    try:\n",
    "      if offering['group'] == 'EXPOS':\n",
    "        key = offering['group'] + offering['number'] + offering['profs'][0]['matchName']\n",
    "      else:\n",
    "        key = offering['group'] + offering['number']\n",
    "    except:\n",
    "      offering['otherOfferings'] = []\n",
    "    siblings[key].append(offering)\n",
    "  for name, courseOfferings in siblings.iteritems():\n",
    "    if len(courseOfferings) == 1:\n",
    "      continue\n",
    "    _range = range(0, len(courseOfferings))\n",
    "    summaries = map(siblingSummary, courseOfferings)\n",
    "    for i in _range:\n",
    "      courseOfferings[i]['otherOfferings'] = []\n",
    "      for other_k in (_range[:i] + _range[(i + 1):])[0:10]:\n",
    "        courseOfferings[i]['otherOfferings'].append(summaries[other_k])"
   ]
  },
  {
   "cell_type": "code",
   "execution_count": 9,
   "metadata": {
    "collapsed": false
   },
   "outputs": [],
   "source": [
    "linkSiblings(offeringsWithProfessors)"
   ]
  },
  {
   "cell_type": "code",
   "execution_count": 12,
   "metadata": {
    "collapsed": false
   },
   "outputs": [
    {
     "data": {
      "text/plain": [
       "{'classNumber': u'15826',\n",
       " 'consentRequired': u'Instructor',\n",
       " 'courseId': u'113307',\n",
       " 'courseSite': u'https://locator.tlt.harvard.edu/course/colgsas-113307/2017/fall/15826',\n",
       " 'crossReg': [u'Not Available for Cross Registration'],\n",
       " 'departments': [u'Germanic Languages and Literature'],\n",
       " 'description': u'',\n",
       " 'enrollmentCap': u'25',\n",
       " 'enrollmentStatus': u'0/25',\n",
       " 'format': 'Reading and Research',\n",
       " 'gradingBasis': u'FAS Satisfactory/Unsatisfactory',\n",
       " 'group': u'GERMAN',\n",
       " 'level': u'Graduate Course',\n",
       " 'number': u'300',\n",
       " 'numberAlt': u'GERMAN300',\n",
       " 'numberInt': 300,\n",
       " 'objectID': u'113307_15826',\n",
       " 'otherOfferings': [{'objectID': u'113307_15827',\n",
       "   'profs': [{'displayName': u'Eric Rentschler',\n",
       "     'matchName': u'eric rentschler',\n",
       "     'score': '4.89'}],\n",
       "   'term': u'Fall',\n",
       "   'year': u'2017'},\n",
       "  {'objectID': u'113307_15824',\n",
       "   'profs': [{'displayName': u'John Hamilton',\n",
       "     'matchName': u'john hamilton',\n",
       "     'score': '4.75'}],\n",
       "   'term': u'Fall',\n",
       "   'year': u'2017'},\n",
       "  {'objectID': u'113307_15825',\n",
       "   'profs': [{'displayName': u'Racha Kirakosian',\n",
       "     'matchName': u'racha kirakosian',\n",
       "     'score': '5.00'}],\n",
       "   'term': u'Fall',\n",
       "   'year': u'2017'},\n",
       "  {'objectID': u'113307_15828',\n",
       "   'profs': [{'displayName': u'Judith Ryan',\n",
       "     'matchName': u'judith ryan',\n",
       "     'score': '4.67'}],\n",
       "   'term': u'Fall',\n",
       "   'year': u'2017'},\n",
       "  {'objectID': u'113307_15829',\n",
       "   'profs': [{'displayName': u'Nicole Suetterlin',\n",
       "     'matchName': u'nicole suetterlin',\n",
       "     'score': '4.75'}],\n",
       "   'term': u'Fall',\n",
       "   'year': u'2017'},\n",
       "  {'objectID': u'113307_12165',\n",
       "   'profs': [{'displayName': u'Peter Burgard',\n",
       "     'matchName': u'peter burgard',\n",
       "     'score': '4.67'}],\n",
       "   'term': u'Fall',\n",
       "   'year': u'2017'},\n",
       "  {'objectID': u'113307_15830',\n",
       "   'profs': [{'displayName': u'Maria Tatar',\n",
       "     'matchName': u'maria tatar',\n",
       "     'score': '4.69'}],\n",
       "   'term': u'Fall',\n",
       "   'year': u'2017'},\n",
       "  {'objectID': u'113307_12232',\n",
       "   'profs': [{'displayName': u'Peter Burgard',\n",
       "     'matchName': u'peter burgard',\n",
       "     'score': '4.67'},\n",
       "    {'displayName': u'John Hamilton',\n",
       "     'matchName': u'john hamilton',\n",
       "     'score': '4.75'},\n",
       "    {'displayName': u'Racha Kirakosian',\n",
       "     'matchName': u'racha kirakosian',\n",
       "     'score': '5.00'}],\n",
       "   'term': u'Spring',\n",
       "   'year': u'2018'},\n",
       "  {'objectID': u'113307_15088',\n",
       "   'profs': [{'displayName': u'Maria Tatar',\n",
       "     'matchName': u'maria tatar',\n",
       "     'score': '4.69'}],\n",
       "   'term': u'Spring',\n",
       "   'year': u'2018'},\n",
       "  {'objectID': u'113307_15082',\n",
       "   'profs': [{'displayName': u'John Hamilton',\n",
       "     'matchName': u'john hamilton',\n",
       "     'score': '4.75'}],\n",
       "   'term': u'Spring',\n",
       "   'year': u'2018'}],\n",
       " 'primaryDepartment': u'German',\n",
       " 'profs': [{'displayName': u'Stephen Mitchell',\n",
       "   'matchName': u'stephen mitchell',\n",
       "   'matched': {'group': u'CULTBLF',\n",
       "    'number': u'16',\n",
       "    'reportId': u'20932',\n",
       "    'term': 'Fall',\n",
       "    'title': u'Performance, Tradition and Cultural Studies',\n",
       "    'year': u'2009'},\n",
       "   'relevantBecause': 'mostSimilarTaughtCourse',\n",
       "   'score': '3.64'}],\n",
       " 'term': u'Fall',\n",
       " 'title': u'Special Reading Programs and Research Problems for Advanced Students',\n",
       " 'units': u'4 - 16',\n",
       " 'year': u'2017'}"
      ]
     },
     "execution_count": 12,
     "metadata": {},
     "output_type": "execute_result"
    }
   ],
   "source": [
    "[o for o in offeringsWithProfessors if 'otherOfferings' in o][0]"
   ]
  }
 ],
 "metadata": {
  "kernelspec": {
   "display_name": "Python 2",
   "language": "python",
   "name": "python2"
  },
  "language_info": {
   "codemirror_mode": {
    "name": "ipython",
    "version": 2
   },
   "file_extension": ".py",
   "mimetype": "text/x-python",
   "name": "python",
   "nbconvert_exporter": "python",
   "pygments_lexer": "ipython2",
   "version": "2.7.13"
  }
 },
 "nbformat": 4,
 "nbformat_minor": 2
}
